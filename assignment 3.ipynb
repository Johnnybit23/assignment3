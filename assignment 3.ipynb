{
 "cells": [
  {
   "cell_type": "markdown",
   "metadata": {},
   "source": [
    "# 1. Why are functions advantageous to have in your programs?\n",
    "\n",
    "\n",
    "# ans--> \n",
    "#   A function is a block of reusable code that is used to perform a specific action. reduce the need for duplicate code.\n",
    "#  this makes The advantages of using functions are:\n",
    "\n",
    "# 1. write once and use ti as many times as you need.\n",
    "# 2. we can remove or add new feature to a function anytime.\n",
    "# 3. divide large task into many small task \n",
    "# so Function reduce the need for duplicate code. this makes programs shorter , easier to read , and easier to update.\n",
    "\n",
    "# example--->"
   ]
  },
  {
   "cell_type": "code",
   "execution_count": 4,
   "metadata": {},
   "outputs": [],
   "source": [
    "# here introducig two types function   # def & lambda\n",
    "\n",
    "def main(a,b):\n",
    "    return(a+b)\n",
    "\n"
   ]
  },
  {
   "cell_type": "code",
   "execution_count": 19,
   "metadata": {},
   "outputs": [
    {
     "data": {
      "text/plain": [
       "15"
      ]
     },
     "execution_count": 19,
     "metadata": {},
     "output_type": "execute_result"
    }
   ],
   "source": [
    "main(9,6)"
   ]
  },
  {
   "cell_type": "code",
   "execution_count": 20,
   "metadata": {},
   "outputs": [
    {
     "data": {
      "text/plain": [
       "9"
      ]
     },
     "execution_count": 20,
     "metadata": {},
     "output_type": "execute_result"
    }
   ],
   "source": [
    "main(4,5)          # so we can use it many times "
   ]
  },
  {
   "cell_type": "code",
   "execution_count": 6,
   "metadata": {},
   "outputs": [],
   "source": [
    "# but in same way if i use LAMDA\n",
    "x= lambda t,m:(t+m)"
   ]
  },
  {
   "cell_type": "code",
   "execution_count": 7,
   "metadata": {},
   "outputs": [
    {
     "data": {
      "text/plain": [
       "28"
      ]
     },
     "execution_count": 7,
     "metadata": {},
     "output_type": "execute_result"
    }
   ],
   "source": [
    "x(14,14)   ## so we can see function makes program shorter  than above functio."
   ]
  },
  {
   "cell_type": "markdown",
   "metadata": {},
   "source": [
    "# 2. 2. When does the code in a function run: when it's specified or when it's called?\n",
    "\n",
    "# ans--> The code in a function executes when the function is called,\n",
    "# not when the function is specified."
   ]
  },
  {
   "cell_type": "markdown",
   "metadata": {},
   "source": [
    "# 3. what statement creates a function?\n",
    "# ans--> \n",
    "\n",
    "# \"def\" <-- This statement defines a function \n",
    "\n",
    "# syntax::\n",
    "    \n",
    "# def function name():\n",
    " # local variable          \n",
    " # block of statement      \n",
    " # return( variable expression)    \n",
    "\n",
    " # def function name (para1, para2):\n",
    " # local variable          \n",
    " # block of statement      \n",
    " # return( variable expression) "
   ]
  },
  {
   "cell_type": "markdown",
   "metadata": {},
   "source": [
    "# 4.what is the difference between a function and a function call?\n",
    "\n",
    "# ans-->\n",
    "## Using a function to do a particular task any point in program is called as function call.\n",
    "## So the difference between the function and function call is,\n",
    " ## A function is procedure to achieve a particular result while function call is using this function to achive that task."
   ]
  },
  {
   "cell_type": "code",
   "execution_count": 28,
   "metadata": {},
   "outputs": [],
   "source": [
    "def mom ():  \n",
    "    print(\"Hello World\")  \n",
    "    print(\" Welcome to home\")  "
   ]
  },
  {
   "cell_type": "code",
   "execution_count": 29,
   "metadata": {},
   "outputs": [
    {
     "name": "stdout",
     "output_type": "stream",
     "text": [
      "Hello World\n",
      " Welcome to home\n"
     ]
    }
   ],
   "source": [
    "mom() # Call Function to print the task.  "
   ]
  },
  {
   "cell_type": "markdown",
   "metadata": {},
   "source": [
    "# 5. how many global scopes are there in a python program?\n",
    "# how many local scopes?\n",
    "\n",
    "# ans-->  There are one global scope., and a local scope is build whenever a function is called\n"
   ]
  },
  {
   "cell_type": "markdown",
   "metadata": {},
   "source": [
    "# 6. what happens to variables in a local scope when the function call returns?\n",
    "\n",
    "# ans--> when a function returns , the local scope is destroyed, and all the variables in it are forgotten."
   ]
  },
  {
   "cell_type": "markdown",
   "metadata": {},
   "source": [
    "# 7. what is the concept of a return value? \n",
    "# is it possible to have a return value in an expression?\n",
    "\n",
    "# ans-->  a return value is the value that a function call evaluates to like any value, \n",
    "# a return value can be used as part of an expression.\n"
   ]
  },
  {
   "cell_type": "code",
   "execution_count": null,
   "metadata": {},
   "outputs": [],
   "source": []
  },
  {
   "cell_type": "markdown",
   "metadata": {},
   "source": [
    "# 8. if a function does not have a return statement , what is the return value of a call to that function?\n",
    "\n",
    "## ans--> if there is no return statement for a function, its return value is None."
   ]
  },
  {
   "cell_type": "markdown",
   "metadata": {},
   "source": [
    "# 9. how do you make a function variable refer to the global variable?\n",
    "\n",
    "# ans--> a global statement will force a variable in a function to refer to the global variable. if i want to refer to a gloabal variable\n",
    "# in a function , i can use the global keyword to declare which variables are global."
   ]
  },
  {
   "cell_type": "markdown",
   "metadata": {},
   "source": [
    "# 10. what is the data type of none?\n",
    "\n",
    "# ans--> The data type of none is None type. \n",
    "# none data type represents an object that doesn't contain any value."
   ]
  },
  {
   "cell_type": "markdown",
   "metadata": {},
   "source": [
    "# 11. What does the sentence import areallyourpetsnamederic do?\n",
    "\n",
    "# ans--> That import statement imports a module named areallyourpetsnamederic.\n"
   ]
  },
  {
   "cell_type": "markdown",
   "metadata": {},
   "source": [
    "# 12. if you had a bacon() feature in a spam module , what would you call it after importing spam?\n",
    " \n",
    " # ans-->  function can be called--> spam.bacon()"
   ]
  },
  {
   "cell_type": "markdown",
   "metadata": {},
   "source": [
    "# 13. what can you do to save a programme from crashing if it encounters an error?\n",
    "\n",
    "# ans--> place the line of code that might cause an error in a try clause and use except block to handle the error."
   ]
  },
  {
   "cell_type": "markdown",
   "metadata": {},
   "source": [
    "# 14. what is the purpose of the try clause? what is the purpose of the except clause?\n",
    "\n",
    "# ans--> try…except blocks make it easy to debug your Python code. A program tries to run the code in a “try” block. If this fails, \n",
    "# the “except” block runs. The code in a “finally” statement runs irrespective of whether an “except” block is executed.\n",
    "\n",
    "# example-->"
   ]
  },
  {
   "cell_type": "code",
   "execution_count": 26,
   "metadata": {},
   "outputs": [
    {
     "name": "stdout",
     "output_type": "stream",
     "text": [
      "Error returned\n"
     ]
    }
   ],
   "source": [
    "try:\n",
    "\tprint(ourVariable)\n",
    "except:\n",
    "\tprint('Error returned')"
   ]
  },
  {
   "cell_type": "code",
   "execution_count": null,
   "metadata": {},
   "outputs": [],
   "source": []
  }
 ],
 "metadata": {
  "kernelspec": {
   "display_name": "Python 3.10.4 64-bit (system)",
   "language": "python",
   "name": "python3"
  },
  "language_info": {
   "codemirror_mode": {
    "name": "ipython",
    "version": 3
   },
   "file_extension": ".py",
   "mimetype": "text/x-python",
   "name": "python",
   "nbconvert_exporter": "python",
   "pygments_lexer": "ipython3",
   "version": "3.10.4"
  },
  "orig_nbformat": 4,
  "vscode": {
   "interpreter": {
    "hash": "26de051ba29f2982a8de78e945f0abaf191376122a1563185a90213a26c5da77"
   }
  }
 },
 "nbformat": 4,
 "nbformat_minor": 2
}
